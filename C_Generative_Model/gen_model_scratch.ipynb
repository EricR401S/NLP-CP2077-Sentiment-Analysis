{
 "cells": [
  {
   "cell_type": "code",
   "execution_count": 1,
   "metadata": {},
   "outputs": [],
   "source": [
    "import pandas as pd\n",
    "import numpy as np\n",
    "import nltk\n",
    "import collections"
   ]
  },
  {
   "cell_type": "code",
   "execution_count": 28,
   "metadata": {},
   "outputs": [],
   "source": [
    "temp = pd.read_csv(\"cp2077_reviews_cleaned.csv.zip\", compression=\"zip\")\n",
    "\n",
    "# divide the df_cleaned based on \"Recommended or Not Recommended\" column\n",
    "temp_recommended = temp.loc[temp[\"Recommended or Not Recommended\"] == True,:].reset_index(drop=True)\n",
    "temp_not_recommended = temp.loc[temp[\"Recommended or Not Recommended\"] == False,:].reset_index(drop=True)\n",
    "\n",
    "# divide temp_recommended into train and test using random sample seed\n",
    "temp_recommended_train = temp_recommended.sample(frac=0.8, random_state=1).reset_index(drop=True)\n",
    "temp_recommended_test = temp_recommended.drop(temp_recommended_train.index).reset_index(drop=True)\n",
    "\n",
    "# divide temp_not_recommended into train and test using random sample seed\n",
    "temp_not_recommended_train = temp_not_recommended.sample(frac=0.8, random_state=1).reset_index(drop=True)\n",
    "temp_not_recommended_test = temp_not_recommended.drop(temp_not_recommended_train.index).reset_index(drop=True)\n",
    "\n",
    "# Combine test dataset\n",
    "temp_test = pd.concat([temp_recommended_test, temp_not_recommended_test], axis=0).reset_index(drop=True)"
   ]
  },
  {
   "cell_type": "code",
   "execution_count": 34,
   "metadata": {},
   "outputs": [],
   "source": [
    "temp_recommended_train['Review'] = temp_recommended_train['Review'].astype(str)\n",
    "temp_not_recommended_train['Review'] = temp_not_recommended_train['Review'].astype(str)"
   ]
  },
  {
   "cell_type": "code",
   "execution_count": 52,
   "metadata": {},
   "outputs": [],
   "source": [
    "bow_recom = collections.Counter([y for x in temp_recommended_train.Review for y in x.split()])\n",
    "bow_not_recom = collections.Counter([y for x in temp_not_recommended_train.Review for y in x.split()])"
   ]
  },
  {
   "cell_type": "code",
   "execution_count": 53,
   "metadata": {},
   "outputs": [],
   "source": [
    "# bow_recom to pandas dataframe\n",
    "df_recom = pd.DataFrame.from_dict(bow_recom, orient='index').reset_index()\n",
    "df_recom.columns = ['Word', 'Count']\n",
    "df_recom = df_recom.sort_values(by='Count', ascending=False).reset_index(drop=True)\n",
    "\n",
    "# bow_not_recom to pandas dataframe\n",
    "df_not_recom = pd.DataFrame.from_dict(bow_not_recom, orient='index').reset_index()\n",
    "df_not_recom.columns = ['Word', 'Count']\n",
    "df_not_recom = df_not_recom.sort_values(by='Count', ascending=False).reset_index(drop=True)\n"
   ]
  },
  {
   "cell_type": "code",
   "execution_count": 19,
   "metadata": {},
   "outputs": [
    {
     "name": "stdout",
     "output_type": "stream",
     "text": [
      "train size: 22989, test size: 5747\n",
      "train size: 27086, test size: 6771\n"
     ]
    }
   ],
   "source": [
    "# df_recom = pd.read_csv(\"bow_recom.csv\")\n",
    "# df_not_recom = pd.read_csv(\"bow_not_recom.csv\")\n",
    "\n",
    "# # split df_recom into train and test\n",
    "# train_recom = df_recom.sample(frac=0.8, random_state=200).reset_index(drop=True)\n",
    "# test_recom = df_recom.drop(train_recom.index).reset_index(drop=True)\n",
    "# print(f\"train size: {len(train_recom)}, test size: {len(test_recom)}\")\n",
    "\n",
    "# # split df_not_recom into train and test\n",
    "# train_not_recom = df_not_recom.sample(frac=0.8, random_state=200).reset_index(drop=True)\n",
    "# test_not_recom = df_not_recom.drop(train_not_recom.index).reset_index(drop=True)\n",
    "# print(f\"train size: {len(train_not_recom)}, test size: {len(test_not_recom)}\")\n",
    "\n",
    "# # combine test_recom and test_not_recom\n",
    "# test = pd.concat([test_recom, test_not_recom], axis=0).reset_index(drop=True)"
   ]
  },
  {
   "attachments": {},
   "cell_type": "markdown",
   "metadata": {},
   "source": [
    "## Combining Recommended and Not Recommended BoW"
   ]
  },
  {
   "cell_type": "code",
   "execution_count": 13,
   "metadata": {},
   "outputs": [
    {
     "name": "stdout",
     "output_type": "stream",
     "text": [
      "train size: 8400, test size: 2100\n"
     ]
    }
   ],
   "source": [
    "# combined = pd.read_csv(\"cp2077_reviews_cleaned.csv.zip\", compression=\"zip\")\n",
    "\n",
    "# # drop column Date Timestamp Created\n",
    "# combined = combined.drop(columns=[\"Date Timestamp Created\"])\n",
    "\n",
    "# # make sure reviews are strings\n",
    "# combined[\"Review\"] = combined[\"Review\"].astype(\"str\")\n",
    "\n",
    "# # split combined into train and test\n",
    "# train = combined.sample(frac=0.8, random_state=200).reset_index(drop=True)\n",
    "# test = combined.drop(train.index).reset_index(drop=True)\n",
    "# print(f\"train size: {len(train)}, test size: {len(test)}\")"
   ]
  },
  {
   "attachments": {},
   "cell_type": "markdown",
   "metadata": {},
   "source": [
    "## Testing the code for calculating weight"
   ]
  },
  {
   "cell_type": "code",
   "execution_count": 65,
   "metadata": {},
   "outputs": [
    {
     "name": "stdout",
     "output_type": "stream",
     "text": [
      "     Word  Count\n",
      "408  hate    141\n",
      "     Word  Count\n",
      "738  hate     99\n"
     ]
    }
   ],
   "source": [
    "love = df_recom.loc[df_recom[\"Word\"]==\"hate\",:]\n",
    "love1 = df_not_recom.loc[df_not_recom[\"Word\"]==\"hate\",:]\n",
    "print(love)\n",
    "print(love1)"
   ]
  },
  {
   "cell_type": "code",
   "execution_count": 67,
   "metadata": {},
   "outputs": [
    {
     "name": "stdout",
     "output_type": "stream",
     "text": [
      "41.0223618202121\n",
      "38.1197639500956\n"
     ]
    }
   ],
   "source": [
    "a = love['Count'].item()\n",
    "b = love1['Count'].item()\n",
    "sum1 = df_recom['Count'].sum()\n",
    "sum2 = df_not_recom['Count'].sum()\n",
    "\n",
    "# adore = 60 (+) 3 (-) 1000  || 63\n",
    "the_tfidf2_pos = np.log((a + 1)) * np.log((sum1+sum2)/(a+b))\n",
    "print(the_tfidf2_pos)\n",
    "\n",
    "the_tfidf3_neg = np.log((b + 1)) * np.log((sum1+sum2)/(a+b))\n",
    "print(the_tfidf3_neg)"
   ]
  },
  {
   "cell_type": "code",
   "execution_count": 58,
   "metadata": {},
   "outputs": [],
   "source": [
    "def define_sentiment(row):\n",
    "    rec = 0\n",
    "    not_rec = 0\n",
    "    sum1 = df_recom['Count'].sum()\n",
    "    sum2 = df_not_recom['Count'].sum()\n",
    "    for i in row:\n",
    "        if i in df_recom[\"Word\"].values:\n",
    "            a = df_recom.loc[df_recom[\"Word\"]==i, \"Count\"].item()\n",
    "        else:\n",
    "            a = 1\n",
    "        if i in df_not_recom[\"Word\"].values:\n",
    "            b = df_not_recom.loc[df_not_recom[\"Word\"]==i, \"Count\"].item()\n",
    "        else:\n",
    "            b = 1\n",
    "        rec += np.log((a + 1)) * np.log((sum1+sum2)/(a+b))\n",
    "        not_rec += np.log((b + 1)) * np.log((sum1+sum2)/(a+b))\n",
    "    if rec > not_rec:\n",
    "        return True\n",
    "    else:\n",
    "        return False"
   ]
  },
  {
   "cell_type": "code",
   "execution_count": 64,
   "metadata": {},
   "outputs": [
    {
     "data": {
      "text/html": [
       "<div>\n",
       "<style scoped>\n",
       "    .dataframe tbody tr th:only-of-type {\n",
       "        vertical-align: middle;\n",
       "    }\n",
       "\n",
       "    .dataframe tbody tr th {\n",
       "        vertical-align: top;\n",
       "    }\n",
       "\n",
       "    .dataframe thead th {\n",
       "        text-align: right;\n",
       "    }\n",
       "</style>\n",
       "<table border=\"1\" class=\"dataframe\">\n",
       "  <thead>\n",
       "    <tr style=\"text-align: right;\">\n",
       "      <th></th>\n",
       "      <th>Review</th>\n",
       "      <th>Recommended or Not Recommended</th>\n",
       "      <th>Date Timestamp Created</th>\n",
       "      <th>Sentiment</th>\n",
       "    </tr>\n",
       "  </thead>\n",
       "  <tbody>\n",
       "    <tr>\n",
       "      <th>2051</th>\n",
       "      <td>two crashes and several game breaking bugs tha...</td>\n",
       "      <td>False</td>\n",
       "      <td>1607574052</td>\n",
       "      <td>False</td>\n",
       "    </tr>\n",
       "    <tr>\n",
       "      <th>108</th>\n",
       "      <td>damn this went from blowing things with keanu ...</td>\n",
       "      <td>True</td>\n",
       "      <td>1607728716</td>\n",
       "      <td>False</td>\n",
       "    </tr>\n",
       "    <tr>\n",
       "      <th>561</th>\n",
       "      <td>think the game great very immersive gives the ...</td>\n",
       "      <td>True</td>\n",
       "      <td>1610925240</td>\n",
       "      <td>False</td>\n",
       "    </tr>\n",
       "    <tr>\n",
       "      <th>375</th>\n",
       "      <td>when works well its fantastic game full conten...</td>\n",
       "      <td>True</td>\n",
       "      <td>1615158235</td>\n",
       "      <td>False</td>\n",
       "    </tr>\n",
       "    <tr>\n",
       "      <th>615</th>\n",
       "      <td>tldr some people get paid throw shit some are ...</td>\n",
       "      <td>True</td>\n",
       "      <td>1613521715</td>\n",
       "      <td>False</td>\n",
       "    </tr>\n",
       "    <tr>\n",
       "      <th>1926</th>\n",
       "      <td>despite enjoying the game quite bit the amount...</td>\n",
       "      <td>False</td>\n",
       "      <td>1609963480</td>\n",
       "      <td>False</td>\n",
       "    </tr>\n",
       "    <tr>\n",
       "      <th>401</th>\n",
       "      <td>amazing game haunted sensationalist media cove...</td>\n",
       "      <td>True</td>\n",
       "      <td>1614382110</td>\n",
       "      <td>False</td>\n",
       "    </tr>\n",
       "    <tr>\n",
       "      <th>1451</th>\n",
       "      <td>the game okay have had fun playing but would s...</td>\n",
       "      <td>False</td>\n",
       "      <td>1610086669</td>\n",
       "      <td>False</td>\n",
       "    </tr>\n",
       "    <tr>\n",
       "      <th>523</th>\n",
       "      <td>absolutely slays best rpg lifetime</td>\n",
       "      <td>True</td>\n",
       "      <td>1608310632</td>\n",
       "      <td>True</td>\n",
       "    </tr>\n",
       "    <tr>\n",
       "      <th>1174</th>\n",
       "      <td>got hours the game mainly because wanted much ...</td>\n",
       "      <td>False</td>\n",
       "      <td>1608098113</td>\n",
       "      <td>False</td>\n",
       "    </tr>\n",
       "  </tbody>\n",
       "</table>\n",
       "</div>"
      ],
      "text/plain": [
       "                                                 Review  \\\n",
       "2051  two crashes and several game breaking bugs tha...   \n",
       "108   damn this went from blowing things with keanu ...   \n",
       "561   think the game great very immersive gives the ...   \n",
       "375   when works well its fantastic game full conten...   \n",
       "615   tldr some people get paid throw shit some are ...   \n",
       "1926  despite enjoying the game quite bit the amount...   \n",
       "401   amazing game haunted sensationalist media cove...   \n",
       "1451  the game okay have had fun playing but would s...   \n",
       "523                  absolutely slays best rpg lifetime   \n",
       "1174  got hours the game mainly because wanted much ...   \n",
       "\n",
       "      Recommended or Not Recommended  Date Timestamp Created  Sentiment  \n",
       "2051                           False              1607574052      False  \n",
       "108                             True              1607728716      False  \n",
       "561                             True              1610925240      False  \n",
       "375                             True              1615158235      False  \n",
       "615                             True              1613521715      False  \n",
       "1926                           False              1609963480      False  \n",
       "401                             True              1614382110      False  \n",
       "1451                           False              1610086669      False  \n",
       "523                             True              1608310632       True  \n",
       "1174                           False              1608098113      False  "
      ]
     },
     "execution_count": 64,
     "metadata": {},
     "output_type": "execute_result"
    }
   ],
   "source": [
    "# limit temp_test to 10 rows\n",
    "temp_test_1 = temp_test.sample(10)\n",
    "\n",
    "temp_test_1[\"Sentiment\"] = temp_test_1[\"Review\"].apply(lambda x: define_sentiment(x.split()))\n",
    "temp_test_1"
   ]
  }
 ],
 "metadata": {
  "kernelspec": {
   "display_name": "Python 3",
   "language": "python",
   "name": "python3"
  },
  "language_info": {
   "codemirror_mode": {
    "name": "ipython",
    "version": 3
   },
   "file_extension": ".py",
   "mimetype": "text/x-python",
   "name": "python",
   "nbconvert_exporter": "python",
   "pygments_lexer": "ipython3",
   "version": "3.10.4"
  },
  "orig_nbformat": 4,
  "vscode": {
   "interpreter": {
    "hash": "3ad933181bd8a04b432d3370b9dc3b0662ad032c4dfaa4e4f1596c548f763858"
   }
  }
 },
 "nbformat": 4,
 "nbformat_minor": 2
}
