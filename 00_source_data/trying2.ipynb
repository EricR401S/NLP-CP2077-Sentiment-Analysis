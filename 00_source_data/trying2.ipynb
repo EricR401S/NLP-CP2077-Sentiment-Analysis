{
 "cells": [
  {
   "cell_type": "code",
   "execution_count": 44,
   "metadata": {},
   "outputs": [],
   "source": [
    "import requests\n",
    "import pandas as pd\n",
    "import numpy as np"
   ]
  },
  {
   "cell_type": "code",
   "execution_count": 45,
   "metadata": {},
   "outputs": [],
   "source": [
    "\n",
    "def get_reviews(appid, params):\n",
    "        url_start = 'https://store.steampowered.com/appreviews/'\n",
    "        try:\n",
    "            response = requests.get(url=url_start+str(appid), params=params, headers={'User-Agent': 'Zhonglin/5.0'})\n",
    "        except:\n",
    "                return {'reviews' : []}\n",
    "        return response.json() # return data extracted from the json response\n",
    "\n"
   ]
  },
  {
   "cell_type": "code",
   "execution_count": 46,
   "metadata": {},
   "outputs": [
    {
     "data": {
      "text/plain": [
       "{'json': 1,\n",
       " 'filter': 'all',\n",
       " 'language': 'english',\n",
       " 'day_range': 9223372036854775807,\n",
       " 'review_type': 'all',\n",
       " 'purchase_type': 'all',\n",
       " 'num_per_page': 100,\n",
       " 'cursor': b'AoIIPxGayHqn+uUD'}"
      ]
     },
     "execution_count": 46,
     "metadata": {},
     "output_type": "execute_result"
    }
   ],
   "source": [
    "reviews = []\n",
    "cursor = 'AoIIPxGayHqn+uUD'\n",
    "params = { # https://partner.steamgames.com/doc/store/getreviews\n",
    "    'json' : 1,\n",
    "    'filter' : 'all', # sort by: recent, updated, all (helpfullness)\n",
    "    'language' : 'english', # https://partner.steamgames.com/doc/store/localization\n",
    "    'day_range' : 9223372036854775807, # shows reveiws from all time\n",
    "    'review_type' : 'all', # all, positive, negative\n",
    "    'purchase_type' : 'all', # all, non_steam_purchase, steam\n",
    "    'num_per_page' : 100,\n",
    "    'cursor' : 'AoIIPxGayHqn+uUD'.encode()\n",
    "          }\n",
    "params\n"
   ]
  },
  {
   "cell_type": "code",
   "execution_count": 47,
   "metadata": {},
   "outputs": [
    {
     "data": {
      "text/html": [
       "<div>\n",
       "<style scoped>\n",
       "    .dataframe tbody tr th:only-of-type {\n",
       "        vertical-align: middle;\n",
       "    }\n",
       "\n",
       "    .dataframe tbody tr th {\n",
       "        vertical-align: top;\n",
       "    }\n",
       "\n",
       "    .dataframe thead th {\n",
       "        text-align: right;\n",
       "    }\n",
       "</style>\n",
       "<table border=\"1\" class=\"dataframe\">\n",
       "  <thead>\n",
       "    <tr style=\"text-align: right;\">\n",
       "      <th></th>\n",
       "      <th>index</th>\n",
       "      <th>review</th>\n",
       "      <th>voted_up</th>\n",
       "    </tr>\n",
       "  </thead>\n",
       "  <tbody>\n",
       "    <tr>\n",
       "      <th>0</th>\n",
       "      <td>0</td>\n",
       "      <td>this game is still really impressively bad</td>\n",
       "      <td>False</td>\n",
       "    </tr>\n",
       "    <tr>\n",
       "      <th>1</th>\n",
       "      <td>1</td>\n",
       "      <td>the cars drive like garbage, other than that i...</td>\n",
       "      <td>True</td>\n",
       "    </tr>\n",
       "    <tr>\n",
       "      <th>2</th>\n",
       "      <td>2</td>\n",
       "      <td>elated and disappointed. ill explain elation f...</td>\n",
       "      <td>False</td>\n",
       "    </tr>\n",
       "    <tr>\n",
       "      <th>3</th>\n",
       "      <td>3</td>\n",
       "      <td>watch edgerunners first</td>\n",
       "      <td>True</td>\n",
       "    </tr>\n",
       "    <tr>\n",
       "      <th>4</th>\n",
       "      <td>4</td>\n",
       "      <td>It's pays to never preorder. ever.</td>\n",
       "      <td>False</td>\n",
       "    </tr>\n",
       "    <tr>\n",
       "      <th>...</th>\n",
       "      <td>...</td>\n",
       "      <td>...</td>\n",
       "      <td>...</td>\n",
       "    </tr>\n",
       "    <tr>\n",
       "      <th>95</th>\n",
       "      <td>95</td>\n",
       "      <td>Do i recommend it? Nope not at all, at the cur...</td>\n",
       "      <td>False</td>\n",
       "    </tr>\n",
       "    <tr>\n",
       "      <th>96</th>\n",
       "      <td>96</td>\n",
       "      <td>It's a good game so long as your expectations ...</td>\n",
       "      <td>True</td>\n",
       "    </tr>\n",
       "    <tr>\n",
       "      <th>97</th>\n",
       "      <td>97</td>\n",
       "      <td>70H and that my first run , i love this game s...</td>\n",
       "      <td>True</td>\n",
       "    </tr>\n",
       "    <tr>\n",
       "      <th>98</th>\n",
       "      <td>98</td>\n",
       "      <td>Honestly. I love the game. It runs like a drea...</td>\n",
       "      <td>False</td>\n",
       "    </tr>\n",
       "    <tr>\n",
       "      <th>99</th>\n",
       "      <td>99</td>\n",
       "      <td>I don't recommend any game that kills you inst...</td>\n",
       "      <td>False</td>\n",
       "    </tr>\n",
       "  </tbody>\n",
       "</table>\n",
       "<p>100 rows × 3 columns</p>\n",
       "</div>"
      ],
      "text/plain": [
       "    index                                             review  voted_up\n",
       "0       0         this game is still really impressively bad     False\n",
       "1       1  the cars drive like garbage, other than that i...      True\n",
       "2       2  elated and disappointed. ill explain elation f...     False\n",
       "3       3                            watch edgerunners first      True\n",
       "4       4                 It's pays to never preorder. ever.     False\n",
       "..    ...                                                ...       ...\n",
       "95     95  Do i recommend it? Nope not at all, at the cur...     False\n",
       "96     96  It's a good game so long as your expectations ...      True\n",
       "97     97  70H and that my first run , i love this game s...      True\n",
       "98     98  Honestly. I love the game. It runs like a drea...     False\n",
       "99     99  I don't recommend any game that kills you inst...     False\n",
       "\n",
       "[100 rows x 3 columns]"
      ]
     },
     "execution_count": 47,
     "metadata": {},
     "output_type": "execute_result"
    }
   ],
   "source": [
    "# get reviews for appid 1091500\n",
    "reviews += get_reviews(1091500, params)['reviews']\n",
    "reviews_df = pd.DataFrame(reviews)[['review', 'voted_up']]\n",
    "reviews_df.dropna(inplace=True)\n",
    "reviews_df.reset_index(inplace=True)\n",
    "reviews_df\n",
    "\n"
   ]
  },
  {
   "cell_type": "code",
   "execution_count": null,
   "metadata": {},
   "outputs": [],
   "source": []
  }
 ],
 "metadata": {
  "kernelspec": {
   "display_name": "Python 3.10.4 64-bit",
   "language": "python",
   "name": "python3"
  },
  "language_info": {
   "codemirror_mode": {
    "name": "ipython",
    "version": 3
   },
   "file_extension": ".py",
   "mimetype": "text/x-python",
   "name": "python",
   "nbconvert_exporter": "python",
   "pygments_lexer": "ipython3",
   "version": "3.10.4"
  },
  "orig_nbformat": 4,
  "vscode": {
   "interpreter": {
    "hash": "3ad933181bd8a04b432d3370b9dc3b0662ad032c4dfaa4e4f1596c548f763858"
   }
  }
 },
 "nbformat": 4,
 "nbformat_minor": 2
}
