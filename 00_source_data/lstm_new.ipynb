{
 "cells": [
  {
   "cell_type": "code",
   "execution_count": 3,
   "metadata": {},
   "outputs": [
    {
     "name": "stderr",
     "output_type": "stream",
     "text": [
      "[nltk_data] Downloading package stopwords to\n",
      "[nltk_data]     /home/codespace/nltk_data...\n",
      "[nltk_data]   Package stopwords is already up-to-date!\n"
     ]
    }
   ],
   "source": [
    "import numpy as np\n",
    "import pandas as pd\n",
    "import re\n",
    "import string\n",
    "import os\n",
    "import nltk\n",
    "nltk.download('stopwords')\n",
    "from nltk.corpus import stopwords\n",
    "from wordcloud import WordCloud, STOPWORDS\n",
    "stopwords = set(STOPWORDS)\n",
    "import matplotlib.pyplot as plt\n",
    "import seaborn as sns\n",
    "color = sns.color_palette()\n",
    "from sklearn.metrics import confusion_matrix\n",
    "import warnings\n",
    "warnings.filterwarnings('ignore')"
   ]
  },
  {
   "cell_type": "code",
   "execution_count": 4,
   "metadata": {},
   "outputs": [],
   "source": [
    "def data_cleaning(raw_data): \n",
    "    raw_data = raw_data.translate(str.maketrans('', '', string.punctuation + string.digits)) \n",
    "    words = raw_data.lower().split() \n",
    "    # stops = set(stopwords.words( \"english\")) \n",
    "    stops = set(stopwords)\n",
    "    useful_words = [w for w in words if not w in stops] \n",
    "    return( \" \".join(useful_words))"
   ]
  },
  {
   "cell_type": "code",
   "execution_count": 5,
   "metadata": {},
   "outputs": [
    {
     "data": {
      "text/html": [
       "<div>\n",
       "<style scoped>\n",
       "    .dataframe tbody tr th:only-of-type {\n",
       "        vertical-align: middle;\n",
       "    }\n",
       "\n",
       "    .dataframe tbody tr th {\n",
       "        vertical-align: top;\n",
       "    }\n",
       "\n",
       "    .dataframe thead th {\n",
       "        text-align: right;\n",
       "    }\n",
       "</style>\n",
       "<table border=\"1\" class=\"dataframe\">\n",
       "  <thead>\n",
       "    <tr style=\"text-align: right;\">\n",
       "      <th></th>\n",
       "      <th>Review</th>\n",
       "      <th>Recommended or Not Recommended</th>\n",
       "      <th>Date Timestamp Created</th>\n",
       "    </tr>\n",
       "  </thead>\n",
       "  <tbody>\n",
       "    <tr>\n",
       "      <th>0</th>\n",
       "      <td>day someone came ps version game quite journey...</td>\n",
       "      <td>True</td>\n",
       "      <td>1645046263</td>\n",
       "    </tr>\n",
       "    <tr>\n",
       "      <th>1</th>\n",
       "      <td>replay immediately demolish adam smasher</td>\n",
       "      <td>True</td>\n",
       "      <td>1663224196</td>\n",
       "    </tr>\n",
       "    <tr>\n",
       "      <th>2</th>\n",
       "      <td>patch fixed everything quests make sense fixer...</td>\n",
       "      <td>True</td>\n",
       "      <td>1645267750</td>\n",
       "    </tr>\n",
       "    <tr>\n",
       "      <th>3</th>\n",
       "      <td>watches edgerunners downloads cyberpunk time life</td>\n",
       "      <td>True</td>\n",
       "      <td>1667117035</td>\n",
       "    </tr>\n",
       "    <tr>\n",
       "      <th>4</th>\n",
       "      <td>remember hearing cyberpunk around announced in...</td>\n",
       "      <td>True</td>\n",
       "      <td>1664423074</td>\n",
       "    </tr>\n",
       "    <tr>\n",
       "      <th>...</th>\n",
       "      <td>...</td>\n",
       "      <td>...</td>\n",
       "      <td>...</td>\n",
       "    </tr>\n",
       "    <tr>\n",
       "      <th>16594</th>\n",
       "      <td>boobs d</td>\n",
       "      <td>True</td>\n",
       "      <td>1608792512</td>\n",
       "    </tr>\n",
       "    <tr>\n",
       "      <th>16595</th>\n",
       "      <td>great main story cyberpunk atmosphere good vis...</td>\n",
       "      <td>True</td>\n",
       "      <td>1608792267</td>\n",
       "    </tr>\n",
       "    <tr>\n",
       "      <th>16596</th>\n",
       "      <td>got hardware run game definitely</td>\n",
       "      <td>True</td>\n",
       "      <td>1608777643</td>\n",
       "    </tr>\n",
       "    <tr>\n",
       "      <th>16597</th>\n",
       "      <td>glitches experience enough hold awesomeness ga...</td>\n",
       "      <td>True</td>\n",
       "      <td>1608777582</td>\n",
       "    </tr>\n",
       "    <tr>\n",
       "      <th>16598</th>\n",
       "      <td>frankly dont negative press game amazing right...</td>\n",
       "      <td>True</td>\n",
       "      <td>1608770360</td>\n",
       "    </tr>\n",
       "  </tbody>\n",
       "</table>\n",
       "<p>16599 rows × 3 columns</p>\n",
       "</div>"
      ],
      "text/plain": [
       "                                                  Review  \\\n",
       "0      day someone came ps version game quite journey...   \n",
       "1               replay immediately demolish adam smasher   \n",
       "2      patch fixed everything quests make sense fixer...   \n",
       "3      watches edgerunners downloads cyberpunk time life   \n",
       "4      remember hearing cyberpunk around announced in...   \n",
       "...                                                  ...   \n",
       "16594                                            boobs d   \n",
       "16595  great main story cyberpunk atmosphere good vis...   \n",
       "16596                   got hardware run game definitely   \n",
       "16597  glitches experience enough hold awesomeness ga...   \n",
       "16598  frankly dont negative press game amazing right...   \n",
       "\n",
       "       Recommended or Not Recommended  Date Timestamp Created  \n",
       "0                                True              1645046263  \n",
       "1                                True              1663224196  \n",
       "2                                True              1645267750  \n",
       "3                                True              1667117035  \n",
       "4                                True              1664423074  \n",
       "...                               ...                     ...  \n",
       "16594                            True              1608792512  \n",
       "16595                            True              1608792267  \n",
       "16596                            True              1608777643  \n",
       "16597                            True              1608777582  \n",
       "16598                            True              1608770360  \n",
       "\n",
       "[16599 rows x 3 columns]"
      ]
     },
     "execution_count": 5,
     "metadata": {},
     "output_type": "execute_result"
    }
   ],
   "source": [
    "df = pd.read_csv(\"cp2077_reviews.csv.zip\", compression=\"zip\")\n",
    "df[\"Review\"] = df[\"Review\"].astype(\"str\")\n",
    "df['Review']=df['Review'].apply(data_cleaning) \n",
    "df"
   ]
  },
  {
   "cell_type": "code",
   "execution_count": 9,
   "metadata": {},
   "outputs": [
    {
     "data": {
      "text/html": [
       "<div>\n",
       "<style scoped>\n",
       "    .dataframe tbody tr th:only-of-type {\n",
       "        vertical-align: middle;\n",
       "    }\n",
       "\n",
       "    .dataframe tbody tr th {\n",
       "        vertical-align: top;\n",
       "    }\n",
       "\n",
       "    .dataframe thead th {\n",
       "        text-align: right;\n",
       "    }\n",
       "</style>\n",
       "<table border=\"1\" class=\"dataframe\">\n",
       "  <thead>\n",
       "    <tr style=\"text-align: right;\">\n",
       "      <th></th>\n",
       "      <th>Review</th>\n",
       "      <th>Date Timestamp Created</th>\n",
       "      <th>Recommend</th>\n",
       "    </tr>\n",
       "  </thead>\n",
       "  <tbody>\n",
       "    <tr>\n",
       "      <th>0</th>\n",
       "      <td>day someone came ps version game quite journey...</td>\n",
       "      <td>1645046263</td>\n",
       "      <td>Recommended</td>\n",
       "    </tr>\n",
       "    <tr>\n",
       "      <th>1</th>\n",
       "      <td>replay immediately demolish adam smasher</td>\n",
       "      <td>1663224196</td>\n",
       "      <td>Recommended</td>\n",
       "    </tr>\n",
       "    <tr>\n",
       "      <th>2</th>\n",
       "      <td>patch fixed everything quests make sense fixer...</td>\n",
       "      <td>1645267750</td>\n",
       "      <td>Recommended</td>\n",
       "    </tr>\n",
       "    <tr>\n",
       "      <th>3</th>\n",
       "      <td>watches edgerunners downloads cyberpunk time life</td>\n",
       "      <td>1667117035</td>\n",
       "      <td>Recommended</td>\n",
       "    </tr>\n",
       "    <tr>\n",
       "      <th>4</th>\n",
       "      <td>remember hearing cyberpunk around announced in...</td>\n",
       "      <td>1664423074</td>\n",
       "      <td>Recommended</td>\n",
       "    </tr>\n",
       "    <tr>\n",
       "      <th>...</th>\n",
       "      <td>...</td>\n",
       "      <td>...</td>\n",
       "      <td>...</td>\n",
       "    </tr>\n",
       "    <tr>\n",
       "      <th>16594</th>\n",
       "      <td>boobs d</td>\n",
       "      <td>1608792512</td>\n",
       "      <td>Recommended</td>\n",
       "    </tr>\n",
       "    <tr>\n",
       "      <th>16595</th>\n",
       "      <td>great main story cyberpunk atmosphere good vis...</td>\n",
       "      <td>1608792267</td>\n",
       "      <td>Recommended</td>\n",
       "    </tr>\n",
       "    <tr>\n",
       "      <th>16596</th>\n",
       "      <td>got hardware run game definitely</td>\n",
       "      <td>1608777643</td>\n",
       "      <td>Recommended</td>\n",
       "    </tr>\n",
       "    <tr>\n",
       "      <th>16597</th>\n",
       "      <td>glitches experience enough hold awesomeness ga...</td>\n",
       "      <td>1608777582</td>\n",
       "      <td>Recommended</td>\n",
       "    </tr>\n",
       "    <tr>\n",
       "      <th>16598</th>\n",
       "      <td>frankly dont negative press game amazing right...</td>\n",
       "      <td>1608770360</td>\n",
       "      <td>Recommended</td>\n",
       "    </tr>\n",
       "  </tbody>\n",
       "</table>\n",
       "<p>16599 rows × 3 columns</p>\n",
       "</div>"
      ],
      "text/plain": [
       "                                                  Review  \\\n",
       "0      day someone came ps version game quite journey...   \n",
       "1               replay immediately demolish adam smasher   \n",
       "2      patch fixed everything quests make sense fixer...   \n",
       "3      watches edgerunners downloads cyberpunk time life   \n",
       "4      remember hearing cyberpunk around announced in...   \n",
       "...                                                  ...   \n",
       "16594                                            boobs d   \n",
       "16595  great main story cyberpunk atmosphere good vis...   \n",
       "16596                   got hardware run game definitely   \n",
       "16597  glitches experience enough hold awesomeness ga...   \n",
       "16598  frankly dont negative press game amazing right...   \n",
       "\n",
       "       Date Timestamp Created    Recommend  \n",
       "0                  1645046263  Recommended  \n",
       "1                  1663224196  Recommended  \n",
       "2                  1645267750  Recommended  \n",
       "3                  1667117035  Recommended  \n",
       "4                  1664423074  Recommended  \n",
       "...                       ...          ...  \n",
       "16594              1608792512  Recommended  \n",
       "16595              1608792267  Recommended  \n",
       "16596              1608777643  Recommended  \n",
       "16597              1608777582  Recommended  \n",
       "16598              1608770360  Recommended  \n",
       "\n",
       "[16599 rows x 3 columns]"
      ]
     },
     "execution_count": 9,
     "metadata": {},
     "output_type": "execute_result"
    }
   ],
   "source": [
    "df['Recommend'] = df['Recommended or Not Recommended'].apply(lambda x: 'Recommended' if x == True else 'Not Recommended')\n",
    "df.drop(['Recommended or Not Recommended'], axis=1, inplace=True)\n",
    "df"
   ]
  },
  {
   "cell_type": "code",
   "execution_count": 10,
   "metadata": {},
   "outputs": [
    {
     "name": "stdout",
     "output_type": "stream",
     "text": [
      "Recommended        11074\n",
      "Not Recommended     5525\n",
      "Name: Recommend, dtype: int64\n"
     ]
    },
    {
     "data": {
      "text/plain": [
       "<AxesSubplot: >"
      ]
     },
     "execution_count": 10,
     "metadata": {},
     "output_type": "execute_result"
    },
    {
     "data": {
      "image/png": "[encoded data removed]",
      "text/plain": [
       "<Figure size 640x480 with 1 Axes>"
      ]
     },
     "metadata": {},
     "output_type": "display_data"
    }
   ],
   "source": [
    "print(df['Recommend'].value_counts())\n",
    "df['Recommend'].value_counts().plot.bar(color='green')"
   ]
  }
 ],
 "metadata": {
  "kernelspec": {
   "display_name": "Python 3",
   "language": "python",
   "name": "python3"
  },
  "language_info": {
   "codemirror_mode": {
    "name": "ipython",
    "version": 3
   },
   "file_extension": ".py",
   "mimetype": "text/x-python",
   "name": "python",
   "nbconvert_exporter": "python",
   "pygments_lexer": "ipython3",
   "version": "3.10.4"
  },
  "orig_nbformat": 4,
  "vscode": {
   "interpreter": {
    "hash": "3ad933181bd8a04b432d3370b9dc3b0662ad032c4dfaa4e4f1596c548f763858"
   }
  }
 },
 "nbformat": 4,
 "nbformat_minor": 2
}
